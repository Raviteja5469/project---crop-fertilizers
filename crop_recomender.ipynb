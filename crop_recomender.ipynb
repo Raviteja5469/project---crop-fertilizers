{
 "cells": [
  {
   "cell_type": "markdown",
   "metadata": {},
   "source": [
    "## Crop Recomendation Model"
   ]
  },
  {
   "cell_type": "markdown",
   "metadata": {},
   "source": [
    "### Importing Libraries"
   ]
  },
  {
   "cell_type": "code",
   "execution_count": 1,
   "metadata": {},
   "outputs": [],
   "source": [
    "import pandas as pd\n",
    "import numpy as np"
   ]
  },
  {
   "cell_type": "markdown",
   "metadata": {},
   "source": [
    "### Acessing the Dataset"
   ]
  },
  {
   "cell_type": "code",
   "execution_count": 2,
   "metadata": {},
   "outputs": [],
   "source": [
    "crop = pd.read_csv('Datasets/Crop_recommendation.csv')"
   ]
  },
  {
   "cell_type": "markdown",
   "metadata": {},
   "source": [
    "### Checking if dataset is loaded correctly"
   ]
  },
  {
   "cell_type": "code",
   "execution_count": 3,
   "metadata": {},
   "outputs": [
    {
     "data": {
      "text/html": [
       "<div>\n",
       "<style scoped>\n",
       "    .dataframe tbody tr th:only-of-type {\n",
       "        vertical-align: middle;\n",
       "    }\n",
       "\n",
       "    .dataframe tbody tr th {\n",
       "        vertical-align: top;\n",
       "    }\n",
       "\n",
       "    .dataframe thead th {\n",
       "        text-align: right;\n",
       "    }\n",
       "</style>\n",
       "<table border=\"1\" class=\"dataframe\">\n",
       "  <thead>\n",
       "    <tr style=\"text-align: right;\">\n",
       "      <th></th>\n",
       "      <th>N</th>\n",
       "      <th>P</th>\n",
       "      <th>K</th>\n",
       "      <th>temperature</th>\n",
       "      <th>humidity</th>\n",
       "      <th>ph</th>\n",
       "      <th>rainfall</th>\n",
       "      <th>label</th>\n",
       "    </tr>\n",
       "  </thead>\n",
       "  <tbody>\n",
       "    <tr>\n",
       "      <th>0</th>\n",
       "      <td>90</td>\n",
       "      <td>42</td>\n",
       "      <td>43</td>\n",
       "      <td>20.879744</td>\n",
       "      <td>82.002744</td>\n",
       "      <td>6.502985</td>\n",
       "      <td>202.935536</td>\n",
       "      <td>rice</td>\n",
       "    </tr>\n",
       "    <tr>\n",
       "      <th>1</th>\n",
       "      <td>85</td>\n",
       "      <td>58</td>\n",
       "      <td>41</td>\n",
       "      <td>21.770462</td>\n",
       "      <td>80.319644</td>\n",
       "      <td>7.038096</td>\n",
       "      <td>226.655537</td>\n",
       "      <td>rice</td>\n",
       "    </tr>\n",
       "    <tr>\n",
       "      <th>2</th>\n",
       "      <td>60</td>\n",
       "      <td>55</td>\n",
       "      <td>44</td>\n",
       "      <td>23.004459</td>\n",
       "      <td>82.320763</td>\n",
       "      <td>7.840207</td>\n",
       "      <td>263.964248</td>\n",
       "      <td>rice</td>\n",
       "    </tr>\n",
       "    <tr>\n",
       "      <th>3</th>\n",
       "      <td>74</td>\n",
       "      <td>35</td>\n",
       "      <td>40</td>\n",
       "      <td>26.491096</td>\n",
       "      <td>80.158363</td>\n",
       "      <td>6.980401</td>\n",
       "      <td>242.864034</td>\n",
       "      <td>rice</td>\n",
       "    </tr>\n",
       "    <tr>\n",
       "      <th>4</th>\n",
       "      <td>78</td>\n",
       "      <td>42</td>\n",
       "      <td>42</td>\n",
       "      <td>20.130175</td>\n",
       "      <td>81.604873</td>\n",
       "      <td>7.628473</td>\n",
       "      <td>262.717340</td>\n",
       "      <td>rice</td>\n",
       "    </tr>\n",
       "  </tbody>\n",
       "</table>\n",
       "</div>"
      ],
      "text/plain": [
       "    N   P   K  temperature   humidity        ph    rainfall label\n",
       "0  90  42  43    20.879744  82.002744  6.502985  202.935536  rice\n",
       "1  85  58  41    21.770462  80.319644  7.038096  226.655537  rice\n",
       "2  60  55  44    23.004459  82.320763  7.840207  263.964248  rice\n",
       "3  74  35  40    26.491096  80.158363  6.980401  242.864034  rice\n",
       "4  78  42  42    20.130175  81.604873  7.628473  262.717340  rice"
      ]
     },
     "execution_count": 3,
     "metadata": {},
     "output_type": "execute_result"
    }
   ],
   "source": [
    "crop.head()"
   ]
  },
  {
   "cell_type": "markdown",
   "metadata": {},
   "source": [
    "### Defining the features and Target"
   ]
  },
  {
   "cell_type": "code",
   "execution_count": 4,
   "metadata": {},
   "outputs": [],
   "source": [
    "X = crop.drop('label', axis=1)\n",
    "y = crop['label']"
   ]
  },
  {
   "cell_type": "markdown",
   "metadata": {},
   "source": [
    "### Checking the features"
   ]
  },
  {
   "cell_type": "code",
   "execution_count": 5,
   "metadata": {},
   "outputs": [
    {
     "data": {
      "text/html": [
       "<div>\n",
       "<style scoped>\n",
       "    .dataframe tbody tr th:only-of-type {\n",
       "        vertical-align: middle;\n",
       "    }\n",
       "\n",
       "    .dataframe tbody tr th {\n",
       "        vertical-align: top;\n",
       "    }\n",
       "\n",
       "    .dataframe thead th {\n",
       "        text-align: right;\n",
       "    }\n",
       "</style>\n",
       "<table border=\"1\" class=\"dataframe\">\n",
       "  <thead>\n",
       "    <tr style=\"text-align: right;\">\n",
       "      <th></th>\n",
       "      <th>N</th>\n",
       "      <th>P</th>\n",
       "      <th>K</th>\n",
       "      <th>temperature</th>\n",
       "      <th>humidity</th>\n",
       "      <th>ph</th>\n",
       "      <th>rainfall</th>\n",
       "    </tr>\n",
       "  </thead>\n",
       "  <tbody>\n",
       "    <tr>\n",
       "      <th>0</th>\n",
       "      <td>90</td>\n",
       "      <td>42</td>\n",
       "      <td>43</td>\n",
       "      <td>20.879744</td>\n",
       "      <td>82.002744</td>\n",
       "      <td>6.502985</td>\n",
       "      <td>202.935536</td>\n",
       "    </tr>\n",
       "    <tr>\n",
       "      <th>1</th>\n",
       "      <td>85</td>\n",
       "      <td>58</td>\n",
       "      <td>41</td>\n",
       "      <td>21.770462</td>\n",
       "      <td>80.319644</td>\n",
       "      <td>7.038096</td>\n",
       "      <td>226.655537</td>\n",
       "    </tr>\n",
       "    <tr>\n",
       "      <th>2</th>\n",
       "      <td>60</td>\n",
       "      <td>55</td>\n",
       "      <td>44</td>\n",
       "      <td>23.004459</td>\n",
       "      <td>82.320763</td>\n",
       "      <td>7.840207</td>\n",
       "      <td>263.964248</td>\n",
       "    </tr>\n",
       "    <tr>\n",
       "      <th>3</th>\n",
       "      <td>74</td>\n",
       "      <td>35</td>\n",
       "      <td>40</td>\n",
       "      <td>26.491096</td>\n",
       "      <td>80.158363</td>\n",
       "      <td>6.980401</td>\n",
       "      <td>242.864034</td>\n",
       "    </tr>\n",
       "    <tr>\n",
       "      <th>4</th>\n",
       "      <td>78</td>\n",
       "      <td>42</td>\n",
       "      <td>42</td>\n",
       "      <td>20.130175</td>\n",
       "      <td>81.604873</td>\n",
       "      <td>7.628473</td>\n",
       "      <td>262.717340</td>\n",
       "    </tr>\n",
       "  </tbody>\n",
       "</table>\n",
       "</div>"
      ],
      "text/plain": [
       "    N   P   K  temperature   humidity        ph    rainfall\n",
       "0  90  42  43    20.879744  82.002744  6.502985  202.935536\n",
       "1  85  58  41    21.770462  80.319644  7.038096  226.655537\n",
       "2  60  55  44    23.004459  82.320763  7.840207  263.964248\n",
       "3  74  35  40    26.491096  80.158363  6.980401  242.864034\n",
       "4  78  42  42    20.130175  81.604873  7.628473  262.717340"
      ]
     },
     "execution_count": 5,
     "metadata": {},
     "output_type": "execute_result"
    }
   ],
   "source": [
    "X.head()"
   ]
  },
  {
   "cell_type": "markdown",
   "metadata": {},
   "source": [
    "### checking the Target"
   ]
  },
  {
   "cell_type": "code",
   "execution_count": 6,
   "metadata": {},
   "outputs": [
    {
     "data": {
      "text/plain": [
       "0    rice\n",
       "1    rice\n",
       "2    rice\n",
       "3    rice\n",
       "4    rice\n",
       "Name: label, dtype: object"
      ]
     },
     "execution_count": 6,
     "metadata": {},
     "output_type": "execute_result"
    }
   ],
   "source": [
    "\n",
    "y.head()"
   ]
  },
  {
   "cell_type": "markdown",
   "metadata": {},
   "source": [
    "## Training, Testing and Shaping"
   ]
  },
  {
   "cell_type": "code",
   "execution_count": 7,
   "metadata": {},
   "outputs": [],
   "source": [
    "from sklearn.model_selection import train_test_split\n",
    "\n",
    "X_train, X_test, y_train, y_test = train_test_split(X, y, test_size=0.3, random_state=0)"
   ]
  },
  {
   "cell_type": "code",
   "execution_count": 8,
   "metadata": {},
   "outputs": [
    {
     "data": {
      "text/plain": [
       "(1540, 7)"
      ]
     },
     "execution_count": 8,
     "metadata": {},
     "output_type": "execute_result"
    }
   ],
   "source": [
    "X_train.shape"
   ]
  },
  {
   "cell_type": "code",
   "execution_count": 9,
   "metadata": {},
   "outputs": [
    {
     "data": {
      "text/plain": [
       "(1540,)"
      ]
     },
     "execution_count": 9,
     "metadata": {},
     "output_type": "execute_result"
    }
   ],
   "source": [
    "y_train.shape"
   ]
  },
  {
   "cell_type": "code",
   "execution_count": 10,
   "metadata": {},
   "outputs": [
    {
     "data": {
      "text/plain": [
       "(660, 7)"
      ]
     },
     "execution_count": 10,
     "metadata": {},
     "output_type": "execute_result"
    }
   ],
   "source": [
    "X_test.shape"
   ]
  },
  {
   "cell_type": "code",
   "execution_count": 11,
   "metadata": {},
   "outputs": [
    {
     "data": {
      "text/plain": [
       "(660,)"
      ]
     },
     "execution_count": 11,
     "metadata": {},
     "output_type": "execute_result"
    }
   ],
   "source": [
    "y_test.shape"
   ]
  },
  {
   "cell_type": "code",
   "execution_count": 12,
   "metadata": {},
   "outputs": [
    {
     "data": {
      "text/html": [
       "<div>\n",
       "<style scoped>\n",
       "    .dataframe tbody tr th:only-of-type {\n",
       "        vertical-align: middle;\n",
       "    }\n",
       "\n",
       "    .dataframe tbody tr th {\n",
       "        vertical-align: top;\n",
       "    }\n",
       "\n",
       "    .dataframe thead th {\n",
       "        text-align: right;\n",
       "    }\n",
       "</style>\n",
       "<table border=\"1\" class=\"dataframe\">\n",
       "  <thead>\n",
       "    <tr style=\"text-align: right;\">\n",
       "      <th></th>\n",
       "      <th>N</th>\n",
       "      <th>P</th>\n",
       "      <th>K</th>\n",
       "      <th>temperature</th>\n",
       "      <th>humidity</th>\n",
       "      <th>ph</th>\n",
       "      <th>rainfall</th>\n",
       "    </tr>\n",
       "  </thead>\n",
       "  <tbody>\n",
       "    <tr>\n",
       "      <th>52</th>\n",
       "      <td>93</td>\n",
       "      <td>56</td>\n",
       "      <td>42</td>\n",
       "      <td>23.857240</td>\n",
       "      <td>82.225730</td>\n",
       "      <td>7.382763</td>\n",
       "      <td>195.094831</td>\n",
       "    </tr>\n",
       "    <tr>\n",
       "      <th>1354</th>\n",
       "      <td>82</td>\n",
       "      <td>25</td>\n",
       "      <td>51</td>\n",
       "      <td>24.313350</td>\n",
       "      <td>87.474091</td>\n",
       "      <td>6.074210</td>\n",
       "      <td>48.112484</td>\n",
       "    </tr>\n",
       "    <tr>\n",
       "      <th>1655</th>\n",
       "      <td>4</td>\n",
       "      <td>6</td>\n",
       "      <td>7</td>\n",
       "      <td>23.010143</td>\n",
       "      <td>91.117642</td>\n",
       "      <td>6.708890</td>\n",
       "      <td>112.673830</td>\n",
       "    </tr>\n",
       "    <tr>\n",
       "      <th>360</th>\n",
       "      <td>7</td>\n",
       "      <td>63</td>\n",
       "      <td>24</td>\n",
       "      <td>22.954582</td>\n",
       "      <td>24.035531</td>\n",
       "      <td>5.858618</td>\n",
       "      <td>107.731539</td>\n",
       "    </tr>\n",
       "    <tr>\n",
       "      <th>1609</th>\n",
       "      <td>13</td>\n",
       "      <td>23</td>\n",
       "      <td>6</td>\n",
       "      <td>23.961476</td>\n",
       "      <td>90.264080</td>\n",
       "      <td>7.365338</td>\n",
       "      <td>102.695870</td>\n",
       "    </tr>\n",
       "    <tr>\n",
       "      <th>...</th>\n",
       "      <td>...</td>\n",
       "      <td>...</td>\n",
       "      <td>...</td>\n",
       "      <td>...</td>\n",
       "      <td>...</td>\n",
       "      <td>...</td>\n",
       "      <td>...</td>\n",
       "    </tr>\n",
       "    <tr>\n",
       "      <th>1033</th>\n",
       "      <td>102</td>\n",
       "      <td>71</td>\n",
       "      <td>48</td>\n",
       "      <td>28.654563</td>\n",
       "      <td>79.286937</td>\n",
       "      <td>5.695268</td>\n",
       "      <td>102.463378</td>\n",
       "    </tr>\n",
       "    <tr>\n",
       "      <th>1731</th>\n",
       "      <td>34</td>\n",
       "      <td>68</td>\n",
       "      <td>51</td>\n",
       "      <td>27.347349</td>\n",
       "      <td>94.177567</td>\n",
       "      <td>6.687088</td>\n",
       "      <td>40.351531</td>\n",
       "    </tr>\n",
       "    <tr>\n",
       "      <th>763</th>\n",
       "      <td>35</td>\n",
       "      <td>64</td>\n",
       "      <td>15</td>\n",
       "      <td>28.474423</td>\n",
       "      <td>63.536045</td>\n",
       "      <td>6.500145</td>\n",
       "      <td>69.527441</td>\n",
       "    </tr>\n",
       "    <tr>\n",
       "      <th>835</th>\n",
       "      <td>39</td>\n",
       "      <td>65</td>\n",
       "      <td>23</td>\n",
       "      <td>25.434598</td>\n",
       "      <td>69.126134</td>\n",
       "      <td>7.685959</td>\n",
       "      <td>41.026829</td>\n",
       "    </tr>\n",
       "    <tr>\n",
       "      <th>1653</th>\n",
       "      <td>14</td>\n",
       "      <td>22</td>\n",
       "      <td>9</td>\n",
       "      <td>17.249446</td>\n",
       "      <td>91.137728</td>\n",
       "      <td>6.543192</td>\n",
       "      <td>112.509052</td>\n",
       "    </tr>\n",
       "  </tbody>\n",
       "</table>\n",
       "<p>1540 rows × 7 columns</p>\n",
       "</div>"
      ],
      "text/plain": [
       "        N   P   K  temperature   humidity        ph    rainfall\n",
       "52     93  56  42    23.857240  82.225730  7.382763  195.094831\n",
       "1354   82  25  51    24.313350  87.474091  6.074210   48.112484\n",
       "1655    4   6   7    23.010143  91.117642  6.708890  112.673830\n",
       "360     7  63  24    22.954582  24.035531  5.858618  107.731539\n",
       "1609   13  23   6    23.961476  90.264080  7.365338  102.695870\n",
       "...   ...  ..  ..          ...        ...       ...         ...\n",
       "1033  102  71  48    28.654563  79.286937  5.695268  102.463378\n",
       "1731   34  68  51    27.347349  94.177567  6.687088   40.351531\n",
       "763    35  64  15    28.474423  63.536045  6.500145   69.527441\n",
       "835    39  65  23    25.434598  69.126134  7.685959   41.026829\n",
       "1653   14  22   9    17.249446  91.137728  6.543192  112.509052\n",
       "\n",
       "[1540 rows x 7 columns]"
      ]
     },
     "execution_count": 12,
     "metadata": {},
     "output_type": "execute_result"
    }
   ],
   "source": [
    "X_train"
   ]
  },
  {
   "cell_type": "code",
   "execution_count": 13,
   "metadata": {},
   "outputs": [
    {
     "data": {
      "text/html": [
       "<div>\n",
       "<style scoped>\n",
       "    .dataframe tbody tr th:only-of-type {\n",
       "        vertical-align: middle;\n",
       "    }\n",
       "\n",
       "    .dataframe tbody tr th {\n",
       "        vertical-align: top;\n",
       "    }\n",
       "\n",
       "    .dataframe thead th {\n",
       "        text-align: right;\n",
       "    }\n",
       "</style>\n",
       "<table border=\"1\" class=\"dataframe\">\n",
       "  <thead>\n",
       "    <tr style=\"text-align: right;\">\n",
       "      <th></th>\n",
       "      <th>N</th>\n",
       "      <th>P</th>\n",
       "      <th>K</th>\n",
       "      <th>temperature</th>\n",
       "      <th>humidity</th>\n",
       "      <th>ph</th>\n",
       "      <th>rainfall</th>\n",
       "    </tr>\n",
       "  </thead>\n",
       "  <tbody>\n",
       "    <tr>\n",
       "      <th>1320</th>\n",
       "      <td>105</td>\n",
       "      <td>14</td>\n",
       "      <td>50</td>\n",
       "      <td>26.214884</td>\n",
       "      <td>87.688398</td>\n",
       "      <td>6.419052</td>\n",
       "      <td>59.655908</td>\n",
       "    </tr>\n",
       "    <tr>\n",
       "      <th>1367</th>\n",
       "      <td>91</td>\n",
       "      <td>12</td>\n",
       "      <td>46</td>\n",
       "      <td>24.644585</td>\n",
       "      <td>85.499382</td>\n",
       "      <td>6.343943</td>\n",
       "      <td>48.312190</td>\n",
       "    </tr>\n",
       "    <tr>\n",
       "      <th>1291</th>\n",
       "      <td>14</td>\n",
       "      <td>121</td>\n",
       "      <td>203</td>\n",
       "      <td>9.724458</td>\n",
       "      <td>83.747656</td>\n",
       "      <td>6.158689</td>\n",
       "      <td>74.464111</td>\n",
       "    </tr>\n",
       "    <tr>\n",
       "      <th>264</th>\n",
       "      <td>52</td>\n",
       "      <td>73</td>\n",
       "      <td>79</td>\n",
       "      <td>17.257695</td>\n",
       "      <td>18.749440</td>\n",
       "      <td>7.840339</td>\n",
       "      <td>94.002872</td>\n",
       "    </tr>\n",
       "    <tr>\n",
       "      <th>728</th>\n",
       "      <td>32</td>\n",
       "      <td>66</td>\n",
       "      <td>17</td>\n",
       "      <td>34.946616</td>\n",
       "      <td>65.267740</td>\n",
       "      <td>7.162358</td>\n",
       "      <td>70.141514</td>\n",
       "    </tr>\n",
       "    <tr>\n",
       "      <th>...</th>\n",
       "      <td>...</td>\n",
       "      <td>...</td>\n",
       "      <td>...</td>\n",
       "      <td>...</td>\n",
       "      <td>...</td>\n",
       "      <td>...</td>\n",
       "      <td>...</td>\n",
       "    </tr>\n",
       "    <tr>\n",
       "      <th>979</th>\n",
       "      <td>39</td>\n",
       "      <td>17</td>\n",
       "      <td>45</td>\n",
       "      <td>18.096911</td>\n",
       "      <td>90.421774</td>\n",
       "      <td>6.924491</td>\n",
       "      <td>104.881890</td>\n",
       "    </tr>\n",
       "    <tr>\n",
       "      <th>1689</th>\n",
       "      <td>34</td>\n",
       "      <td>11</td>\n",
       "      <td>10</td>\n",
       "      <td>31.750489</td>\n",
       "      <td>94.595512</td>\n",
       "      <td>7.362208</td>\n",
       "      <td>115.198930</td>\n",
       "    </tr>\n",
       "    <tr>\n",
       "      <th>1239</th>\n",
       "      <td>20</td>\n",
       "      <td>122</td>\n",
       "      <td>204</td>\n",
       "      <td>11.797647</td>\n",
       "      <td>80.863254</td>\n",
       "      <td>6.487370</td>\n",
       "      <td>65.069625</td>\n",
       "    </tr>\n",
       "    <tr>\n",
       "      <th>1769</th>\n",
       "      <td>54</td>\n",
       "      <td>67</td>\n",
       "      <td>52</td>\n",
       "      <td>35.676673</td>\n",
       "      <td>93.306419</td>\n",
       "      <td>6.586107</td>\n",
       "      <td>141.338117</td>\n",
       "    </tr>\n",
       "    <tr>\n",
       "      <th>298</th>\n",
       "      <td>40</td>\n",
       "      <td>58</td>\n",
       "      <td>75</td>\n",
       "      <td>18.591908</td>\n",
       "      <td>14.779596</td>\n",
       "      <td>7.168096</td>\n",
       "      <td>89.609825</td>\n",
       "    </tr>\n",
       "  </tbody>\n",
       "</table>\n",
       "<p>660 rows × 7 columns</p>\n",
       "</div>"
      ],
      "text/plain": [
       "        N    P    K  temperature   humidity        ph    rainfall\n",
       "1320  105   14   50    26.214884  87.688398  6.419052   59.655908\n",
       "1367   91   12   46    24.644585  85.499382  6.343943   48.312190\n",
       "1291   14  121  203     9.724458  83.747656  6.158689   74.464111\n",
       "264    52   73   79    17.257695  18.749440  7.840339   94.002872\n",
       "728    32   66   17    34.946616  65.267740  7.162358   70.141514\n",
       "...   ...  ...  ...          ...        ...       ...         ...\n",
       "979    39   17   45    18.096911  90.421774  6.924491  104.881890\n",
       "1689   34   11   10    31.750489  94.595512  7.362208  115.198930\n",
       "1239   20  122  204    11.797647  80.863254  6.487370   65.069625\n",
       "1769   54   67   52    35.676673  93.306419  6.586107  141.338117\n",
       "298    40   58   75    18.591908  14.779596  7.168096   89.609825\n",
       "\n",
       "[660 rows x 7 columns]"
      ]
     },
     "execution_count": 13,
     "metadata": {},
     "output_type": "execute_result"
    }
   ],
   "source": [
    "X_test"
   ]
  },
  {
   "cell_type": "markdown",
   "metadata": {},
   "source": [
    "## Training Model\n"
   ]
  },
  {
   "cell_type": "markdown",
   "metadata": {},
   "source": [
    "#### Necessary Imports"
   ]
  },
  {
   "cell_type": "code",
   "execution_count": 14,
   "metadata": {},
   "outputs": [
    {
     "name": "stdout",
     "output_type": "stream",
     "text": [
      "Defaulting to user installation because normal site-packages is not writeable\n",
      "Requirement already satisfied: catboost in c:\\users\\oyjaa\\appdata\\roaming\\python\\python312\\site-packages (1.2.7)\n",
      "Requirement already satisfied: graphviz in c:\\users\\oyjaa\\appdata\\roaming\\python\\python312\\site-packages (from catboost) (0.20.3)\n",
      "Requirement already satisfied: matplotlib in c:\\users\\oyjaa\\appdata\\roaming\\python\\python312\\site-packages (from catboost) (3.10.0)\n",
      "Requirement already satisfied: numpy<2.0,>=1.16.0 in c:\\users\\oyjaa\\appdata\\roaming\\python\\python312\\site-packages (from catboost) (1.26.3)\n",
      "Requirement already satisfied: pandas>=0.24 in c:\\users\\oyjaa\\appdata\\roaming\\python\\python312\\site-packages (from catboost) (2.2.0)\n",
      "Requirement already satisfied: scipy in c:\\users\\oyjaa\\appdata\\roaming\\python\\python312\\site-packages (from catboost) (1.14.1)\n",
      "Requirement already satisfied: plotly in c:\\users\\oyjaa\\appdata\\roaming\\python\\python312\\site-packages (from catboost) (6.0.0)\n",
      "Requirement already satisfied: six in c:\\users\\oyjaa\\appdata\\roaming\\python\\python312\\site-packages (from catboost) (1.16.0)\n",
      "Requirement already satisfied: python-dateutil>=2.8.2 in c:\\users\\oyjaa\\appdata\\roaming\\python\\python312\\site-packages (from pandas>=0.24->catboost) (2.8.2)\n",
      "Requirement already satisfied: pytz>=2020.1 in c:\\users\\oyjaa\\appdata\\roaming\\python\\python312\\site-packages (from pandas>=0.24->catboost) (2023.3.post1)\n",
      "Requirement already satisfied: tzdata>=2022.7 in c:\\users\\oyjaa\\appdata\\roaming\\python\\python312\\site-packages (from pandas>=0.24->catboost) (2023.4)\n",
      "Requirement already satisfied: contourpy>=1.0.1 in c:\\users\\oyjaa\\appdata\\roaming\\python\\python312\\site-packages (from matplotlib->catboost) (1.3.1)\n",
      "Requirement already satisfied: cycler>=0.10 in c:\\users\\oyjaa\\appdata\\roaming\\python\\python312\\site-packages (from matplotlib->catboost) (0.12.1)\n",
      "Requirement already satisfied: fonttools>=4.22.0 in c:\\users\\oyjaa\\appdata\\roaming\\python\\python312\\site-packages (from matplotlib->catboost) (4.55.3)\n",
      "Requirement already satisfied: kiwisolver>=1.3.1 in c:\\users\\oyjaa\\appdata\\roaming\\python\\python312\\site-packages (from matplotlib->catboost) (1.4.8)\n",
      "Requirement already satisfied: packaging>=20.0 in c:\\users\\oyjaa\\appdata\\roaming\\python\\python312\\site-packages (from matplotlib->catboost) (24.1)\n",
      "Requirement already satisfied: pillow>=8 in c:\\users\\oyjaa\\appdata\\roaming\\python\\python312\\site-packages (from matplotlib->catboost) (10.4.0)\n",
      "Requirement already satisfied: pyparsing>=2.3.1 in c:\\users\\oyjaa\\appdata\\roaming\\python\\python312\\site-packages (from matplotlib->catboost) (3.2.1)\n",
      "Requirement already satisfied: narwhals>=1.15.1 in c:\\users\\oyjaa\\appdata\\roaming\\python\\python312\\site-packages (from plotly->catboost) (1.26.0)\n",
      "Defaulting to user installation because normal site-packages is not writeable\n",
      "Requirement already satisfied: lightgbm in c:\\users\\oyjaa\\appdata\\roaming\\python\\python312\\site-packages (4.5.0)\n",
      "Requirement already satisfied: numpy>=1.17.0 in c:\\users\\oyjaa\\appdata\\roaming\\python\\python312\\site-packages (from lightgbm) (1.26.3)\n",
      "Requirement already satisfied: scipy in c:\\users\\oyjaa\\appdata\\roaming\\python\\python312\\site-packages (from lightgbm) (1.14.1)\n"
     ]
    }
   ],
   "source": [
    "! pip install catboost\n",
    "! pip install lightgbm\n"
   ]
  },
  {
   "cell_type": "code",
   "execution_count": 15,
   "metadata": {},
   "outputs": [],
   "source": [
    "from sklearn.linear_model import LogisticRegression\n",
    "from sklearn.naive_bayes import GaussianNB\n",
    "from sklearn.svm import SVC\n",
    "from sklearn.neighbors import KNeighborsClassifier\n",
    "from sklearn.tree import DecisionTreeClassifier, ExtraTreeClassifier\n",
    "from sklearn.ensemble import RandomForestClassifier, BaggingClassifier, GradientBoostingClassifier, AdaBoostClassifier\n",
    "from sklearn.metrics import accuracy_score\n",
    "from catboost import CatBoostClassifier\n",
    "from lightgbm import LGBMClassifier"
   ]
  },
  {
   "cell_type": "code",
   "execution_count": 16,
   "metadata": {},
   "outputs": [],
   "source": [
    "models = {\n",
    "    'LogisticRegression': LogisticRegression(solver='liblinear', max_iter=1000),\n",
    "    'GaussianNB': GaussianNB(),\n",
    "    'SVC': SVC(probability=True),\n",
    "    'KNeighborsClassifier': KNeighborsClassifier(),\n",
    "    'DecisionTreeClassifier': DecisionTreeClassifier(),\n",
    "    'ExtraTreeClassifier': ExtraTreeClassifier(),\n",
    "    'RandomForestClassifier': RandomForestClassifier(),\n",
    "    'BaggingClassifier': BaggingClassifier(),\n",
    "    'GradientBoostingClassifier': GradientBoostingClassifier(),\n",
    "    'AdaBoostClassifier': AdaBoostClassifier(),\n",
    "    'CatBoostClassifier': CatBoostClassifier(verbose=0),\n",
    "    'LGBMClassifier': LGBMClassifier(verbose=-1) \n",
    "}"
   ]
  },
  {
   "cell_type": "code",
   "execution_count": 17,
   "metadata": {},
   "outputs": [
    {
     "name": "stdout",
     "output_type": "stream",
     "text": [
      "\n",
      "LogisticRegression mode with accuracy: 0.95\n",
      "\n",
      "GaussianNB mode with accuracy: 0.9939393939393939\n",
      "\n",
      "SVC mode with accuracy: 0.9727272727272728\n",
      "\n",
      "KNeighborsClassifier mode with accuracy: 0.9787878787878788\n",
      "\n",
      "DecisionTreeClassifier mode with accuracy: 0.9833333333333333\n",
      "\n",
      "ExtraTreeClassifier mode with accuracy: 0.9227272727272727\n",
      "\n",
      "RandomForestClassifier mode with accuracy: 0.9939393939393939\n",
      "\n",
      "BaggingClassifier mode with accuracy: 0.9954545454545455\n",
      "\n",
      "GradientBoostingClassifier mode with accuracy: 0.9848484848484849\n",
      "\n",
      "AdaBoostClassifier mode with accuracy: 0.18181818181818182\n",
      "\n",
      "CatBoostClassifier mode with accuracy: 0.9939393939393939\n",
      "\n",
      "LGBMClassifier mode with accuracy: 0.9893939393939394\n"
     ]
    }
   ],
   "source": [
    "for name, model in models.items():\n",
    "    model.fit(X_train, y_train)\n",
    "    y_pred = model.predict(X_test)\n",
    "    score = accuracy_score(y_test, y_pred)\n",
    "    print(f\"\\n{name} mode with accuracy: {score}\")"
   ]
  },
  {
   "cell_type": "markdown",
   "metadata": {},
   "source": [
    "## Ensemble Types:"
   ]
  },
  {
   "cell_type": "markdown",
   "metadata": {},
   "source": [
    "### 1) Voting Classifier (Soft Voting)"
   ]
  },
  {
   "cell_type": "code",
   "execution_count": 18,
   "metadata": {},
   "outputs": [
    {
     "name": "stdout",
     "output_type": "stream",
     "text": [
      "Voting Classifier (Soft Voting) Accuracy: 0.996969696969697\n"
     ]
    }
   ],
   "source": [
    "from sklearn.ensemble import VotingClassifier\n",
    "\n",
    "# Ensure models output probabilities (for Soft Voting)\n",
    "voting_soft = VotingClassifier(estimators=[(name, model) for name, model in models.items()], voting='soft')\n",
    "voting_soft.fit(X_train, y_train)\n",
    "y_pred_soft = voting_soft.predict(X_test)\n",
    "score_soft = accuracy_score(y_test, y_pred_soft)\n",
    "print(f\"Voting Classifier (Soft Voting) Accuracy: {score_soft}\")"
   ]
  },
  {
   "cell_type": "markdown",
   "metadata": {},
   "source": [
    "### 2) Stacking Classifier"
   ]
  },
  {
   "cell_type": "code",
   "execution_count": 19,
   "metadata": {},
   "outputs": [
    {
     "name": "stdout",
     "output_type": "stream",
     "text": [
      "Stacked Classifier Accuracy: 0.9954545454545455\n"
     ]
    }
   ],
   "source": [
    "from sklearn.ensemble import StackingClassifier\n",
    "\n",
    "# Create base learners (same as your models)\n",
    "base_learners = [(name, model) for name, model in models.items()]\n",
    "\n",
    "# Use Logistic Regression as the meta-model\n",
    "meta_model = LogisticRegression(solver='liblinear', max_iter=1000)\n",
    "\n",
    "# Stacking Classifier\n",
    "stacking_model = StackingClassifier(estimators=base_learners, final_estimator=meta_model)\n",
    "stacking_model.fit(X_train, y_train)\n",
    "y_pred_stack = stacking_model.predict(X_test)\n",
    "score_stack = accuracy_score(y_test, y_pred_stack)\n",
    "print(f\"Stacked Classifier Accuracy: {score_stack}\")"
   ]
  },
  {
   "cell_type": "markdown",
   "metadata": {},
   "source": [
    "### 3) Averaging Probabilities"
   ]
  },
  {
   "cell_type": "code",
   "execution_count": 20,
   "metadata": {},
   "outputs": [
    {
     "name": "stdout",
     "output_type": "stream",
     "text": [
      "Weighted Averaging Accuracy: 0.996969696969697\n",
      "Sample predictions: ['watermelon' 'watermelon' 'grapes' 'chickpea' 'blackgram' 'rice'\n",
      " 'mothbeans' 'kidneybeans' 'muskmelon' 'banana']\n"
     ]
    }
   ],
   "source": [
    "from sklearn.preprocessing import LabelEncoder\n",
    "\n",
    "# Step 1: Label encode the class labels (from strings to integers)\n",
    "label_encoder = LabelEncoder()\n",
    "y_train_encoded = label_encoder.fit_transform(y_train)\n",
    "y_test_encoded = label_encoder.transform(y_test)\n",
    "\n",
    "# Assuming models are already trained and `all_probs` is filled with model predictions\n",
    "all_probs = []\n",
    "for model in models.values():\n",
    "    model.fit(X_train, y_train_encoded)  # Train each model (fit to the training data)\n",
    "    probs = model.predict_proba(X_test)  # Get predicted probabilities on test set\n",
    "    all_probs.append(probs)\n",
    "\n",
    "# Convert to a numpy array (shape: [num_models, num_instances, num_classes])\n",
    "all_probs = np.array(all_probs)\n",
    "\n",
    "# Step 2: Normalize the model accuracies and create weights\n",
    "model_accuracies = {\n",
    "    'LogisticRegression' : 0.95,\n",
    "    'GaussianNB' : 0.9939393939393939,\n",
    "    'SVC' : 0.9727272727272728,\n",
    "    'KNeighborsClassifier' : 0.9787878787878788,\n",
    "    'DecisionTreeClassifier' : 0.9833333333333333,\n",
    "    'ExtraTreeClassifier' : 0.8893939393939394,\n",
    "    'RandomForestClassifier': 0.9954545454545455,\n",
    "    'BaggingClassifier' : 0.9924242424242424,\n",
    "    'GradientBoostingClassifier' : 0.9863636363636363,\n",
    "    'AdaBoostClassifier' : 0.21212121212121213,\n",
    "    'CatBoostClassifier' : 0.9939393939393939,\n",
    "    'LGBMClassifier' : 0.9893939393939394\n",
    "}\n",
    "\n",
    "# Normalize the weights based on model accuracies\n",
    "weights = np.array([model_accuracies[model_name] for model_name in models.keys()])\n",
    "weights /= np.sum(weights)\n",
    "\n",
    "# Step 3: Average the probabilities with weights\n",
    "weighted_probs = np.average(all_probs, axis=0, weights=weights)\n",
    "\n",
    "# Step 4: Get final predictions by taking the class with the highest probability\n",
    "final_pred_weighted = np.argmax(weighted_probs, axis=1)\n",
    "\n",
    "# Step 5: Calculate accuracy (using encoded labels)\n",
    "score_weighted_avg = accuracy_score(y_test_encoded, final_pred_weighted)\n",
    "print(f\"Weighted Averaging Accuracy: {score_weighted_avg}\")\n",
    "\n",
    "# Step 6: Convert predictions back to original labels for easier interpretation\n",
    "final_pred_labels = label_encoder.inverse_transform(final_pred_weighted)\n",
    "\n",
    "# Step 7: Optional - display sample predictions in original label format\n",
    "print(\"Sample predictions:\", final_pred_labels[:10])"
   ]
  },
  {
   "cell_type": "markdown",
   "metadata": {},
   "source": [
    "### 4) Weighted Ensemble"
   ]
  },
  {
   "cell_type": "code",
   "execution_count": 21,
   "metadata": {},
   "outputs": [
    {
     "name": "stdout",
     "output_type": "stream",
     "text": [
      "Weighted Ensemble Accuracy: 0.9954545454545455\n"
     ]
    }
   ],
   "source": [
    "# Weights for each model (custom weights based on model performance or any strategy)\n",
    "weights = {\n",
    "    'LogisticRegression': 1,\n",
    "    'GaussianNB': 1,\n",
    "    'SVC': 2,\n",
    "    'KNeighborsClassifier': 1,\n",
    "    'DecisionTreeClassifier': 2,\n",
    "    'ExtraTreeClassifier': 1,\n",
    "    'RandomForestClassifier': 3,\n",
    "    'BaggingClassifier': 1,\n",
    "    'GradientBoostingClassifier': 2,\n",
    "    'AdaBoostClassifier': 1,\n",
    "    'CatBoostClassifier': 3,\n",
    "    'LGBMClassifier': 3\n",
    "}\n",
    "\n",
    "# Weighted Voting Classifier (Soft Voting)\n",
    "voting_weighted = VotingClassifier(estimators=[(name, model) for name, model in models.items()], voting='soft', weights=[weights[name] for name in models.keys()])\n",
    "voting_weighted.fit(X_train, y_train)\n",
    "y_pred_weighted = voting_weighted.predict(X_test)\n",
    "score_weighted = accuracy_score(y_test, y_pred_weighted)\n",
    "print(f\"Weighted Ensemble Accuracy: {score_weighted}\")"
   ]
  },
  {
   "cell_type": "markdown",
   "metadata": {},
   "source": [
    "### 5) Blend Ensemble (Custom Blending)"
   ]
  },
  {
   "cell_type": "code",
   "execution_count": 22,
   "metadata": {},
   "outputs": [
    {
     "name": "stdout",
     "output_type": "stream",
     "text": [
      "Blend Ensemble (Custom Blending) Accuracy: 0.9984848484848485\n"
     ]
    }
   ],
   "source": [
    "# Train base models and get predicted probabilities\n",
    "base_predictions = []\n",
    "for model in models.values():\n",
    "    model.fit(X_train, y_train)\n",
    "    base_pred = model.predict_proba(X_test)  # Get probabilities for each class\n",
    "    base_predictions.append(base_pred)\n",
    "\n",
    "# Stack the predictions of all base models\n",
    "stacked_predictions = np.hstack(base_predictions)\n",
    "\n",
    "# Train a meta-model (Logistic Regression)\n",
    "meta_model = LogisticRegression(solver='liblinear', max_iter=1000)\n",
    "meta_model.fit(stacked_predictions, y_test)\n",
    "\n",
    "# Use the meta-model to predict the final output\n",
    "final_pred_blend = meta_model.predict(stacked_predictions)\n",
    "\n",
    "# Evaluate accuracy\n",
    "score_blend = accuracy_score(y_test, final_pred_blend)\n",
    "print(f\"Blend Ensemble (Custom Blending) Accuracy: {score_blend}\")"
   ]
  },
  {
   "cell_type": "markdown",
   "metadata": {},
   "source": [
    "### Since the Blend Ensemble model showed the highest accuracy, it seems like a solid option.\n",
    "\n",
    "1.Cross-validation: Use cross-validation to estimate the performance more reliably.\n",
    "\n",
    "2.Model Evaluation Metrics: Beyond accuracy, consider evaluating the model using other metrics like confusion matrix, precision, recall, F1-score, and ROC AUC.\n",
    "\n",
    "3.Testing with a validation set: If you have a separate validation set (or can split off part of your data), you can test the model on that."
   ]
  },
  {
   "cell_type": "code",
   "execution_count": 23,
   "metadata": {},
   "outputs": [
    {
     "name": "stdout",
     "output_type": "stream",
     "text": [
      "Cross-validated Accuracy: 0.9955 ± 0.0061\n",
      "\n",
      "Classification Report:\n",
      "              precision    recall  f1-score   support\n",
      "\n",
      "       apple       1.00      1.00      1.00        28\n",
      "      banana       1.00      1.00      1.00        30\n",
      "   blackgram       1.00      1.00      1.00        31\n",
      "    chickpea       1.00      1.00      1.00        34\n",
      "     coconut       1.00      1.00      1.00        26\n",
      "      coffee       1.00      1.00      1.00        29\n",
      "      cotton       1.00      1.00      1.00        28\n",
      "      grapes       1.00      1.00      1.00        30\n",
      "        jute       0.97      1.00      0.98        31\n",
      " kidneybeans       1.00      1.00      1.00        26\n",
      "      lentil       1.00      1.00      1.00        22\n",
      "       maize       1.00      1.00      1.00        27\n",
      "       mango       1.00      1.00      1.00        28\n",
      "   mothbeans       1.00      1.00      1.00        36\n",
      "    mungbean       1.00      1.00      1.00        29\n",
      "   muskmelon       1.00      1.00      1.00        30\n",
      "      orange       1.00      1.00      1.00        34\n",
      "      papaya       1.00      1.00      1.00        39\n",
      "  pigeonpeas       1.00      1.00      1.00        28\n",
      " pomegranate       1.00      1.00      1.00        32\n",
      "        rice       1.00      0.97      0.99        37\n",
      "  watermelon       1.00      1.00      1.00        25\n",
      "\n",
      "    accuracy                           1.00       660\n",
      "   macro avg       1.00      1.00      1.00       660\n",
      "weighted avg       1.00      1.00      1.00       660\n",
      "\n",
      "\n",
      "Confusion Matrix:\n",
      "\n"
     ]
    },
    {
     "data": {
      "image/png": "[encoded data removed]",
      "text/plain": [
       "<Figure size 1500x1500 with 2 Axes>"
      ]
     },
     "metadata": {},
     "output_type": "display_data"
    }
   ],
   "source": [
    "import seaborn as sns\n",
    "import matplotlib.pyplot as plt\n",
    "from sklearn.model_selection import cross_val_score\n",
    "from sklearn.metrics import confusion_matrix, classification_report, roc_auc_score\n",
    "\n",
    "# Cross-validation to estimate model performance\n",
    "cv_scores = cross_val_score(meta_model, stacked_predictions, y_test, cv=5)\n",
    "print(f\"Cross-validated Accuracy: {np.mean(cv_scores):.4f} ± {np.std(cv_scores):.4f}\")\n",
    "\n",
    "# Evaluate additional metrics like precision, recall, F1-score\n",
    "print(\"\\nClassification Report:\")\n",
    "print(classification_report(y_test, final_pred_blend))\n",
    "\n",
    "# Confusion Matrix\n",
    "print(\"\\nConfusion Matrix:\\n\")\n",
    "cm = confusion_matrix(y_test, final_pred_blend)\n",
    "\n",
    "plt.figure(figsize=(15,15))\n",
    "sns.heatmap(cm, annot=True, fmt=\".0f\", linewidths=.5, square = True, cmap = 'Blues');\n",
    "plt.ylabel('Actual label');\n",
    "plt.xlabel('Predicted label');\n",
    "all_sample_title = 'Confusion Matrix - score:'+str(accuracy_score(y_test,final_pred_blend))\n",
    "plt.title(all_sample_title, size = 15);\n",
    "plt.show()\n",
    "\n",
    "# ROC AUC Score (if it's a binary classification)\n",
    "if len(np.unique(y_test)) == 2:\n",
    "    roc_auc = roc_auc_score(y_test, meta_model.predict_proba(stacked_predictions)[:, 1])\n",
    "    print(f\"\\nROC AUC Score: {roc_auc:.4f}\")"
   ]
  },
  {
   "cell_type": "markdown",
   "metadata": {},
   "source": [
    "## SAVING THE MODEL"
   ]
  },
  {
   "cell_type": "code",
   "execution_count": 24,
   "metadata": {},
   "outputs": [
    {
     "data": {
      "text/plain": [
       "['Crop_Recommendation_model.pkl']"
      ]
     },
     "execution_count": 24,
     "metadata": {},
     "output_type": "execute_result"
    }
   ],
   "source": [
    "import joblib\n",
    "\n",
    "# Save the ensemble (meta-model and base models) together in one object\n",
    "ensemble_model = {\n",
    "    'base_models': models,\n",
    "    'meta_model': meta_model\n",
    "}\n",
    "\n",
    "joblib.dump(ensemble_model, \"Crop_Recommendation_model.pkl\")"
   ]
  },
  {
   "cell_type": "code",
   "execution_count": 25,
   "metadata": {},
   "outputs": [
    {
     "data": {
      "text/plain": [
       "['Crop_Recommendation_model.pkl']"
      ]
     },
     "execution_count": 25,
     "metadata": {},
     "output_type": "execute_result"
    }
   ],
   "source": [
    "['Crop_Recommendation_model.pkl']"
   ]
  }
 ],
 "metadata": {
  "kernelspec": {
   "display_name": "Python 3",
   "language": "python",
   "name": "python3"
  },
  "language_info": {
   "codemirror_mode": {
    "name": "ipython",
    "version": 3
   },
   "file_extension": ".py",
   "mimetype": "text/x-python",
   "name": "python",
   "nbconvert_exporter": "python",
   "pygments_lexer": "ipython3",
   "version": "3.12.6"
  }
 },
 "nbformat": 4,
 "nbformat_minor": 2
}
